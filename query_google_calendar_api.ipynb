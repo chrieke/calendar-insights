{
 "cells": [
  {
   "cell_type": "markdown",
   "id": "f41e41a9-50f7-4f7b-8132-abbea24962ca",
   "metadata": {},
   "source": [
    "# Query data via Google Calendar API"
   ]
  },
  {
   "cell_type": "code",
   "execution_count": null,
   "id": "222f8420-5f6d-4c99-a3ea-6f9f2f75c92e",
   "metadata": {},
   "outputs": [],
   "source": [
    "import datetime\n",
    "from pathlib import Path\n",
    "\n",
    "import pandas as pd\n",
    "\n",
    "from utils import authenticate_google, query_google_calendar_api"
   ]
  },
  {
   "cell_type": "markdown",
   "id": "69b49ceb-3573-4dcb-8914-6f57862f5e82",
   "metadata": {},
   "source": [
    "## Authenticate & Subscribe to calendars"
   ]
  },
  {
   "cell_type": "code",
   "execution_count": null,
   "id": "c415c21b-e071-4481-aad2-d1ede3bae275",
   "metadata": {},
   "outputs": [],
   "source": [
    "# Authenticate Google Calendar API\n",
    "oauth2_client_secret_file = 'client_secret_12345....com.json'\n",
    "scopes = ['https://www.googleapis.com/auth/calendar']\n",
    "\n",
    "service = authenticate_google(scopes=scopes, oauth2_client_secret_file=oauth2_client_secret_file)"
   ]
  },
  {
   "cell_type": "code",
   "execution_count": null,
   "id": "9463c7cf-56e4-427f-8648-ccd676fc33a0",
   "metadata": {},
   "outputs": [],
   "source": [
    "# Subscribe to selected, shared calendars\n",
    "new_emails = [\"luke.skywalker@rebels.com\", \"darth.vader@empire.com\"]\n",
    "\n",
    "for email in new_emails:\n",
    "    service.calendarList().insert(body={'id': email}).execute()"
   ]
  },
  {
   "cell_type": "code",
   "execution_count": null,
   "id": "d314b647-eac8-409a-8cab-60e279423f9e",
   "metadata": {},
   "outputs": [],
   "source": [
    "# Get email-ids of all subscribed calendars\n",
    "calendars_result = service.calendarList().list().execute()\n",
    "\n",
    "calendars = calendars_result.get('items', [])\n",
    "emails = [c['id'] for c in calendars]\n",
    "print(len(emails))"
   ]
  },
  {
   "cell_type": "markdown",
   "id": "f9b6d602-aaee-484d-af58-72ce9d29a8ba",
   "metadata": {},
   "source": [
    "## Query subscribed calendars"
   ]
  },
  {
   "cell_type": "markdown",
   "id": "b7ca390f-5030-4cb6-8f50-97b6ad44c2e5",
   "metadata": {},
   "source": [
    "### Basic test query\n",
    "Just for demonstration"
   ]
  },
  {
   "cell_type": "code",
   "execution_count": null,
   "id": "7ed5ca82-7fc6-4936-a163-b0048a9bf410",
   "metadata": {},
   "outputs": [],
   "source": [
    "calendar_results = service.events().list(\n",
    "   calendarId=\"luke.skywalker@rebels.com\", \n",
    "   timeMin='2022-01-01T00:00:00Z',\n",
    "   timeMax='2022-02-01T00:00:00Z',\n",
    "   maxResults=1000, \n",
    "   singleEvents=True,\n",
    "   orderBy='startTime').execute()\n",
    "\n",
    "df_test = pd.DataFrame(calendar_results.get('items', []))\n",
    "df_test.shape"
   ]
  },
  {
   "cell_type": "markdown",
   "id": "ef1993a5-3db6-4fe4-a996-d8dd894f578a",
   "metadata": {},
   "source": [
    "### Query for all results (pagination) for multiple calendars"
   ]
  },
  {
   "cell_type": "code",
   "execution_count": null,
   "id": "4e545977-4915-4044-b21c-55736a70d232",
   "metadata": {},
   "outputs": [],
   "source": [
    "# Define query dates\n",
    "end_time = datetime.datetime.today()\n",
    "start_time = datetime.datetime(2020, 1, 1, 0,0,0)\n",
    "print(start_time, end_time)"
   ]
  },
  {
   "cell_type": "code",
   "execution_count": null,
   "id": "1ca57186-7311-4794-a43a-3bc7ed20bdf9",
   "metadata": {},
   "outputs": [],
   "source": [
    "fp_df = \"df_calendar.pkl\"\n",
    "if Path(fp_df).exists():\n",
    "    print(\"Reading df from saved .pkl file\")\n",
    "    df = pd.read_pickle(fp_df)\n",
    "else:\n",
    "    print(\"No saved .pkl file, querying from Google calendar API\")\n",
    "    df = query_google_calendar_api(service=service, emails=emails[:2], start_time=start_time, end_time=end_time)\n",
    "    df.to_pickle(fp_df)\n",
    "\n",
    "df.shape"
   ]
  },
  {
   "cell_type": "markdown",
   "id": "c452e764-1ced-4477-b31d-1a29616ec29a",
   "metadata": {},
   "source": [
    "## Clean & Prepare data"
   ]
  },
  {
   "cell_type": "code",
   "execution_count": null,
   "id": "ba80a211-2b04-4675-bc3d-a4bb4239a8f2",
   "metadata": {},
   "outputs": [],
   "source": [
    "columns_keep = [\"summary\", \"creator\", \"start\", \"end\", \"attendees\", \"location\", \"queried_from\", \"id\"]\n",
    "df = df[columns_keep]\n",
    "df = df.rename(columns={\"summary\": \"name\"})\n",
    "\n",
    "df[\"timeZone\"] = df[\"start\"].apply(lambda x : x.get(\"timeZone\", \"Europe/Berlin\"))\n",
    "# API delivers entries with dateTime or date, we want a single type in the column\n",
    "df[\"start\"] = df[\"start\"].apply(lambda x : pd.to_datetime(x.get(\"dateTime\", x.get(\"date\")), utc=True))\n",
    "df[\"end\"] = df[\"end\"].apply(lambda x : pd.to_datetime(x.get(\"dateTime\", x.get(\"date\")), utc=True))\n",
    "df[\"duration\"] = df.end - df.start\n",
    "\n",
    "print(df.shape)\n",
    "df.head(1)"
   ]
  },
  {
   "cell_type": "code",
   "execution_count": null,
   "id": "d271a4bf-dacb-4d0a-8af2-2ae901278d41",
   "metadata": {},
   "outputs": [],
   "source": []
  }
 ],
 "metadata": {
  "kernelspec": {
   "display_name": "calendar-insights",
   "language": "python",
   "name": "calendar-insights"
  },
  "language_info": {
   "codemirror_mode": {
    "name": "ipython",
    "version": 3
   },
   "file_extension": ".py",
   "mimetype": "text/x-python",
   "name": "python",
   "nbconvert_exporter": "python",
   "pygments_lexer": "ipython3",
   "version": "3.9.10"
  }
 },
 "nbformat": 4,
 "nbformat_minor": 5
}
